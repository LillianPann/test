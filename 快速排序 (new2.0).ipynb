{
  "nbformat": 4,
  "nbformat_minor": 0,
  "metadata": {
    "colab": {
      "provenance": []
    },
    "kernelspec": {
      "name": "python3",
      "display_name": "Python 3"
    },
    "language_info": {
      "name": "python"
    }
  },
  "cells": [
    {
      "cell_type": "code",
      "source": [
        "def quicksort(array, start, end):\n",
        "  if start>=end:\n",
        "    return\n",
        "  pivot_index=start\n",
        "  pivot=array[pivot_index]\n",
        "  left=start\n",
        "  right=end\n",
        "  print(f\"排序區間:{array[start:end+1]}，pivot={pivot}\")\n",
        "  while left!=right:\n",
        "    while array[right]>=pivot and left!=right:\n",
        "      right-=1\n",
        "    while array[left]<=pivot and left!=right:\n",
        "      left+=1\n",
        "    if left!=right:\n",
        "      array[left], array[right] = array[right], array[left]\n",
        "      print(f\"交換:{array[left]}和{array[right]}→{array}\")\n",
        "  if array[left]<array[pivot_index]:\n",
        "      array[start], array[left]=array[left], array[start]\n",
        "      print(f\"交換pivot:{array[start]}和{array[left]}→{array}\")\n",
        "      pivot_index = left\n",
        "  quicksort(array, start, pivot_index-1)\n",
        "  quicksort(array, pivot_index+1, end)\n",
        "data = [33, 67, 8, 13, 54, 119, 3, 84, 25, 41]\n",
        "print(\"原始資料:\", data)\n",
        "quicksort(data, 0, len(data)-1)\n",
        "print(\"排序後結果:\", data)"
      ],
      "metadata": {
        "id": "AqLjmmvxL3MK"
      },
      "execution_count": null,
      "outputs": []
    }
  ]
}