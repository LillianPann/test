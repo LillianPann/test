{
  "nbformat": 4,
  "nbformat_minor": 0,
  "metadata": {
    "colab": {
      "provenance": []
    },
    "kernelspec": {
      "name": "python3",
      "display_name": "Python 3"
    },
    "language_info": {
      "name": "python"
    }
  },
  "cells": [
    {
      "cell_type": "code",
      "source": [
        "def quicksort(array, start, end):\n",
        "  if start>=end:\n",
        "    return\n",
        "  pivot_index=start\n",
        "  pivot=array[pivot_index]\n",
        "  left=start\n",
        "  right=end\n",
        "  print(f\"排序區間:{array[start:end+1]}，pivot={pivot}\")\n",
        "  while left!=right:\n",
        "    while array[right]>=pivot and left!=right:\n",
        "      right-=1\n",
        "    while array[left]<=pivot and left!=right:\n",
        "      left+=1\n",
        "    if left!=right:\n",
        "      array[left], array[right] = array[right], array[left]\n",
        "      print(f\"交換:{array[left]}和{array[right]}→{array}\")\n",
        "  if array[left]<array[pivot_index]:\n",
        "      array[start], array[left]=array[left], array[start]\n",
        "      print(f\"交換pivot:{array[start]}和{array[left]}→{array}\")\n",
        "      pivot_index = left\n",
        "  quicksort(array, start, pivot_index-1)\n",
        "  quicksort(array, pivot_index+1, end)\n",
        "data = [33, 67, 8, 13, 54, 119, 3, 84, 25, 41]\n",
        "print(\"原始資料:\", data)\n",
        "quicksort(data, 0, len(data)-1)\n",
        "print(\"排序後結果:\", data)"
      ],
      "metadata": {
        "colab": {
          "base_uri": "https://localhost:8080/"
        },
        "id": "AqLjmmvxL3MK",
        "outputId": "1208313f-7bbe-4744-8791-0c142d7143b0"
      },
      "execution_count": null,
      "outputs": [
        {
          "output_type": "stream",
          "name": "stdout",
          "text": [
            "原始資料: [33, 67, 8, 13, 54, 119, 3, 84, 25, 41]\n",
            "排序區間:[33, 67, 8, 13, 54, 119, 3, 84, 25, 41]，pivot=33\n",
            "交換:25和67→[33, 25, 8, 13, 54, 119, 3, 84, 67, 41]\n",
            "交換:3和54→[33, 25, 8, 13, 3, 119, 54, 84, 67, 41]\n",
            "交換pivot:3和33→[3, 25, 8, 13, 33, 119, 54, 84, 67, 41]\n",
            "排序區間:[3, 25, 8, 13]，pivot=3\n",
            "排序區間:[25, 8, 13]，pivot=25\n",
            "交換pivot:13和25→[3, 13, 8, 25, 33, 119, 54, 84, 67, 41]\n",
            "排序區間:[13, 8]，pivot=13\n",
            "交換pivot:8和13→[3, 8, 13, 25, 33, 119, 54, 84, 67, 41]\n",
            "排序區間:[119, 54, 84, 67, 41]，pivot=119\n",
            "交換pivot:41和119→[3, 8, 13, 25, 33, 41, 54, 84, 67, 119]\n",
            "排序區間:[41, 54, 84, 67]，pivot=41\n",
            "排序區間:[54, 84, 67]，pivot=54\n",
            "排序區間:[84, 67]，pivot=84\n",
            "交換pivot:67和84→[3, 8, 13, 25, 33, 41, 54, 67, 84, 119]\n",
            "排序後結果: [3, 8, 13, 25, 33, 41, 54, 67, 84, 119]\n"
          ]
        }
      ]
    }
  ]
}